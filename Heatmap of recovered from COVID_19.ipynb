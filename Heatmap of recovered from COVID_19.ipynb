{
 "cells": [
  {
   "cell_type": "code",
   "execution_count": 1,
   "metadata": {},
   "outputs": [],
   "source": [
    "import numpy as np\n",
    "import pandas as pd\n",
    "import folium\n",
    "from folium.plugins import HeatMap"
   ]
  },
  {
   "cell_type": "code",
   "execution_count": 2,
   "metadata": {},
   "outputs": [],
   "source": [
    "cases = pd.read_csv('03-20-2020.csv')"
   ]
  },
  {
   "cell_type": "code",
   "execution_count": 3,
   "metadata": {},
   "outputs": [
    {
     "data": {
      "text/html": [
       "<div>\n",
       "<style scoped>\n",
       "    .dataframe tbody tr th:only-of-type {\n",
       "        vertical-align: middle;\n",
       "    }\n",
       "\n",
       "    .dataframe tbody tr th {\n",
       "        vertical-align: top;\n",
       "    }\n",
       "\n",
       "    .dataframe thead th {\n",
       "        text-align: right;\n",
       "    }\n",
       "</style>\n",
       "<table border=\"1\" class=\"dataframe\">\n",
       "  <thead>\n",
       "    <tr style=\"text-align: right;\">\n",
       "      <th></th>\n",
       "      <th>Province/State</th>\n",
       "      <th>Country/Region</th>\n",
       "      <th>Last Update</th>\n",
       "      <th>Confirmed</th>\n",
       "      <th>Deaths</th>\n",
       "      <th>Recovered</th>\n",
       "      <th>Latitude</th>\n",
       "      <th>Longitude</th>\n",
       "    </tr>\n",
       "  </thead>\n",
       "  <tbody>\n",
       "    <tr>\n",
       "      <th>0</th>\n",
       "      <td>Hubei</td>\n",
       "      <td>China</td>\n",
       "      <td>2020-03-20T07:43:02</td>\n",
       "      <td>67800</td>\n",
       "      <td>3133</td>\n",
       "      <td>58382</td>\n",
       "      <td>30.9756</td>\n",
       "      <td>112.2707</td>\n",
       "    </tr>\n",
       "    <tr>\n",
       "      <th>1</th>\n",
       "      <td>NaN</td>\n",
       "      <td>Italy</td>\n",
       "      <td>2020-03-20T17:43:03</td>\n",
       "      <td>47021</td>\n",
       "      <td>4032</td>\n",
       "      <td>4440</td>\n",
       "      <td>41.8719</td>\n",
       "      <td>12.5674</td>\n",
       "    </tr>\n",
       "    <tr>\n",
       "      <th>2</th>\n",
       "      <td>NaN</td>\n",
       "      <td>Spain</td>\n",
       "      <td>2020-03-20T17:43:03</td>\n",
       "      <td>20410</td>\n",
       "      <td>1043</td>\n",
       "      <td>1588</td>\n",
       "      <td>40.4637</td>\n",
       "      <td>-3.7492</td>\n",
       "    </tr>\n",
       "    <tr>\n",
       "      <th>3</th>\n",
       "      <td>NaN</td>\n",
       "      <td>Germany</td>\n",
       "      <td>2020-03-20T20:13:15</td>\n",
       "      <td>19848</td>\n",
       "      <td>67</td>\n",
       "      <td>180</td>\n",
       "      <td>51.1657</td>\n",
       "      <td>10.4515</td>\n",
       "    </tr>\n",
       "    <tr>\n",
       "      <th>4</th>\n",
       "      <td>NaN</td>\n",
       "      <td>Iran</td>\n",
       "      <td>2020-03-20T15:13:21</td>\n",
       "      <td>19644</td>\n",
       "      <td>1433</td>\n",
       "      <td>6745</td>\n",
       "      <td>32.4279</td>\n",
       "      <td>53.6880</td>\n",
       "    </tr>\n",
       "    <tr>\n",
       "      <th>...</th>\n",
       "      <td>...</td>\n",
       "      <td>...</td>\n",
       "      <td>...</td>\n",
       "      <td>...</td>\n",
       "      <td>...</td>\n",
       "      <td>...</td>\n",
       "      <td>...</td>\n",
       "      <td>...</td>\n",
       "    </tr>\n",
       "    <tr>\n",
       "      <th>293</th>\n",
       "      <td>NaN</td>\n",
       "      <td>Guernsey</td>\n",
       "      <td>2020-03-17T18:33:03</td>\n",
       "      <td>0</td>\n",
       "      <td>0</td>\n",
       "      <td>0</td>\n",
       "      <td>49.4500</td>\n",
       "      <td>-2.5800</td>\n",
       "    </tr>\n",
       "    <tr>\n",
       "      <th>294</th>\n",
       "      <td>NaN</td>\n",
       "      <td>Jersey</td>\n",
       "      <td>2020-03-17T18:33:03</td>\n",
       "      <td>0</td>\n",
       "      <td>0</td>\n",
       "      <td>0</td>\n",
       "      <td>49.1900</td>\n",
       "      <td>-2.1100</td>\n",
       "    </tr>\n",
       "    <tr>\n",
       "      <th>295</th>\n",
       "      <td>NaN</td>\n",
       "      <td>Puerto Rico</td>\n",
       "      <td>2020-03-17T16:13:14</td>\n",
       "      <td>0</td>\n",
       "      <td>0</td>\n",
       "      <td>0</td>\n",
       "      <td>18.2000</td>\n",
       "      <td>-66.5000</td>\n",
       "    </tr>\n",
       "    <tr>\n",
       "      <th>296</th>\n",
       "      <td>NaN</td>\n",
       "      <td>Republic of the Congo</td>\n",
       "      <td>2020-03-17T21:33:03</td>\n",
       "      <td>0</td>\n",
       "      <td>0</td>\n",
       "      <td>0</td>\n",
       "      <td>-1.4400</td>\n",
       "      <td>15.5560</td>\n",
       "    </tr>\n",
       "    <tr>\n",
       "      <th>297</th>\n",
       "      <td>NaN</td>\n",
       "      <td>The Bahamas</td>\n",
       "      <td>2020-03-19T12:13:38</td>\n",
       "      <td>0</td>\n",
       "      <td>0</td>\n",
       "      <td>0</td>\n",
       "      <td>24.2500</td>\n",
       "      <td>-76.0000</td>\n",
       "    </tr>\n",
       "  </tbody>\n",
       "</table>\n",
       "<p>298 rows × 8 columns</p>\n",
       "</div>"
      ],
      "text/plain": [
       "    Province/State         Country/Region          Last Update  Confirmed  \\\n",
       "0            Hubei                  China  2020-03-20T07:43:02      67800   \n",
       "1              NaN                  Italy  2020-03-20T17:43:03      47021   \n",
       "2              NaN                  Spain  2020-03-20T17:43:03      20410   \n",
       "3              NaN                Germany  2020-03-20T20:13:15      19848   \n",
       "4              NaN                   Iran  2020-03-20T15:13:21      19644   \n",
       "..             ...                    ...                  ...        ...   \n",
       "293            NaN               Guernsey  2020-03-17T18:33:03          0   \n",
       "294            NaN                 Jersey  2020-03-17T18:33:03          0   \n",
       "295            NaN            Puerto Rico  2020-03-17T16:13:14          0   \n",
       "296            NaN  Republic of the Congo  2020-03-17T21:33:03          0   \n",
       "297            NaN            The Bahamas  2020-03-19T12:13:38          0   \n",
       "\n",
       "     Deaths  Recovered  Latitude  Longitude  \n",
       "0      3133      58382   30.9756   112.2707  \n",
       "1      4032       4440   41.8719    12.5674  \n",
       "2      1043       1588   40.4637    -3.7492  \n",
       "3        67        180   51.1657    10.4515  \n",
       "4      1433       6745   32.4279    53.6880  \n",
       "..      ...        ...       ...        ...  \n",
       "293       0          0   49.4500    -2.5800  \n",
       "294       0          0   49.1900    -2.1100  \n",
       "295       0          0   18.2000   -66.5000  \n",
       "296       0          0   -1.4400    15.5560  \n",
       "297       0          0   24.2500   -76.0000  \n",
       "\n",
       "[298 rows x 8 columns]"
      ]
     },
     "execution_count": 3,
     "metadata": {},
     "output_type": "execute_result"
    }
   ],
   "source": [
    "cases.head(-1)"
   ]
  },
  {
   "cell_type": "code",
   "execution_count": 4,
   "metadata": {},
   "outputs": [],
   "source": [
    "n = 296"
   ]
  },
  {
   "cell_type": "code",
   "execution_count": 5,
   "metadata": {},
   "outputs": [],
   "source": [
    "lat = np.array(cases['Latitude'][0:n])"
   ]
  },
  {
   "cell_type": "code",
   "execution_count": 6,
   "metadata": {},
   "outputs": [],
   "source": [
    "lon = np.array(cases['Longitude'][0:n])"
   ]
  },
  {
   "cell_type": "code",
   "execution_count": 7,
   "metadata": {},
   "outputs": [],
   "source": [
    "recovered = np.array(cases['Recovered'][0:n],dtype=float)"
   ]
  },
  {
   "cell_type": "code",
   "execution_count": 8,
   "metadata": {},
   "outputs": [],
   "source": [
    "location = [[lat[i],lon[i],recovered[i]] for i in range(n)]"
   ]
  },
  {
   "cell_type": "code",
   "execution_count": 9,
   "metadata": {},
   "outputs": [],
   "source": [
    "recovered_map = folium.Map(zoom_start=20)"
   ]
  },
  {
   "cell_type": "code",
   "execution_count": 10,
   "metadata": {},
   "outputs": [
    {
     "data": {
      "text/plain": [
       "<folium.plugins.heat_map.HeatMap at 0x2b991348c88>"
      ]
     },
     "execution_count": 10,
     "metadata": {},
     "output_type": "execute_result"
    }
   ],
   "source": [
    "HeatMap(location).add_to(recovered_map)"
   ]
  },
  {
   "cell_type": "code",
   "execution_count": 11,
   "metadata": {
    "scrolled": true
   },
   "outputs": [
    {
     "data": {
      "text/html": [
       "<div style=\"width:100%;\"><div style=\"position:relative;width:100%;height:0;padding-bottom:60%;\"><iframe src=\"about:blank\" style=\"position:absolute;width:100%;height:100%;left:0;top:0;border:none !important;\" data-html=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 onload=\"this.contentDocument.open();this.contentDocument.write(atob(this.getAttribute('data-html')));this.contentDocument.close();\" allowfullscreen webkitallowfullscreen mozallowfullscreen></iframe></div></div>"
      ],
      "text/plain": [
       "<folium.folium.Map at 0x2b991354e08>"
      ]
     },
     "execution_count": 11,
     "metadata": {},
     "output_type": "execute_result"
    }
   ],
   "source": [
    "recovered_map"
   ]
  },
  {
   "cell_type": "code",
   "execution_count": null,
   "metadata": {},
   "outputs": [],
   "source": []
  },
  {
   "cell_type": "code",
   "execution_count": null,
   "metadata": {},
   "outputs": [],
   "source": []
  },
  {
   "cell_type": "code",
   "execution_count": null,
   "metadata": {},
   "outputs": [],
   "source": []
  },
  {
   "cell_type": "code",
   "execution_count": null,
   "metadata": {},
   "outputs": [],
   "source": []
  }
 ],
 "metadata": {
  "kernelspec": {
   "display_name": "Python 3",
   "language": "python",
   "name": "python3"
  },
  "language_info": {
   "codemirror_mode": {
    "name": "ipython",
    "version": 3
   },
   "file_extension": ".py",
   "mimetype": "text/x-python",
   "name": "python",
   "nbconvert_exporter": "python",
   "pygments_lexer": "ipython3",
   "version": "3.7.4"
  }
 },
 "nbformat": 4,
 "nbformat_minor": 2
}
